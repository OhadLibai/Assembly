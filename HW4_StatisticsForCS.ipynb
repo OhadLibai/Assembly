{
  "nbformat": 4,
  "nbformat_minor": 0,
  "metadata": {
    "colab": {
      "provenance": [],
      "collapsed_sections": [
        "vPatbF-PPRTB",
        "V6T6ec0PumUj",
        "IsMXkMfuuwIE",
        "qLZiFzQAIdgI"
      ],
      "include_colab_link": true
    },
    "kernelspec": {
      "name": "python3",
      "display_name": "Python 3"
    },
    "language_info": {
      "name": "python"
    }
  },
  "cells": [
    {
      "cell_type": "markdown",
      "metadata": {
        "id": "view-in-github",
        "colab_type": "text"
      },
      "source": [
        "<a href=\"https://colab.research.google.com/github/OhadLibai/Assembly/blob/main/HW4_StatisticsForCS.ipynb\" target=\"_parent\"><img src=\"https://colab.research.google.com/assets/colab-badge.svg\" alt=\"Open In Colab\"/></a>"
      ]
    },
    {
      "cell_type": "markdown",
      "source": [
        "### regression_line function"
      ],
      "metadata": {
        "id": "vPatbF-PPRTB"
      }
    },
    {
      "cell_type": "code",
      "source": [
        "import numpy as np\n",
        "import matplotlib.pyplot as plt\n",
        "import pandas as pd\n",
        "import math\n",
        "\n",
        "\n",
        "def regression_line(x,y):\n",
        "  #calculating the parameters m,c. m is slope, c is junction with y axis\n",
        "  x_mean = np.mean(x)\n",
        "  y_mean = np.mean(y)\n",
        "  num = 0\n",
        "  den = 0\n",
        "  for i in range(len(x)):\n",
        "      num += (x[i] - x_mean)*(y[i] - y_mean)\n",
        "      den += (x[i] - x_mean)**2\n",
        "\n",
        "  m = num/den\n",
        "  c = y_mean - (m * x_mean)\n",
        "\n",
        "  # Making predictions\n",
        "  y_pred = m*x + c\n",
        "\n",
        "  plt.scatter(x, y)\n",
        "  #plt.scatter(x, y_pred, color='red')\n",
        "  plt.plot(x,y_pred, color=\"red\")\n",
        "  #plt.plot([min(x), max(x)], [min(y_pred), max(y_pred)], color='red')\n",
        "  plt.show()\n",
        "\n",
        "  #calculating r^2\n",
        "  numerator = 0\n",
        "  denominator = 0\n",
        "\n",
        "  for i in range(len(y_pred)):\n",
        "    numerator += (y[i] - y_pred[i])**2\n",
        "    denominator += (y[i] - y_mean)**2\n",
        "\n",
        "  r_squared = 1 - numerator/denominator\n",
        "\n",
        "  if 0>c:\n",
        "    c = -c\n",
        "    print(\"least square line: y = \" + str(m) + \"x - \" + str(c))\n",
        "  else:\n",
        "    print(\"least square line: y = \" + str(m) + \"x + \" + str(c))\n",
        "\n",
        "  print(\"r^2 = \" + str(r_squared))\n"
      ],
      "metadata": {
        "id": "yy5Dh2tzwk0O"
      },
      "execution_count": null,
      "outputs": []
    },
    {
      "cell_type": "markdown",
      "source": [
        "#Q3:\n"
      ],
      "metadata": {
        "id": "V6T6ec0PumUj"
      }
    },
    {
      "cell_type": "markdown",
      "source": [
        "### a.\n"
      ],
      "metadata": {
        "id": "-dYhFDdjOPI-"
      }
    },
    {
      "cell_type": "code",
      "source": [
        "df = pd.read_csv(\"/Age_And_Time.csv\")\n",
        "Y = np.array(df[\"Time\"])\n",
        "X = np.array(df[\"Age\"])\n",
        "regression_line(X,Y)"
      ],
      "metadata": {
        "colab": {
          "base_uri": "https://localhost:8080/",
          "height": 300
        },
        "id": "8ap0S_b-OYao",
        "outputId": "0f809715-c16c-4963-f6f8-0beff1d6ba32"
      },
      "execution_count": null,
      "outputs": [
        {
          "output_type": "display_data",
          "data": {
            "text/plain": [
              "<Figure size 432x288 with 1 Axes>"
            ],
            "image/png": "[encoded data removed]"
          },
          "metadata": {
            "needs_background": "light"
          }
        },
        {
          "output_type": "stream",
          "name": "stdout",
          "text": [
            "least square line: y = 0.7973001334523324x - 9.02486359834863\n",
            "r^2 = 0.07896074430014044\n"
          ]
        }
      ]
    },
    {
      "cell_type": "markdown",
      "source": [
        "###d."
      ],
      "metadata": {
        "id": "IsMXkMfuuwIE"
      }
    },
    {
      "cell_type": "code",
      "execution_count": null,
      "metadata": {
        "id": "vtkBwsVdryyT"
      },
      "outputs": [],
      "source": [
        "df = pd.read_csv(\"/countries.csv\")\n",
        "Y = np.array(df[\"life_expectancy\"])\n",
        "X1 = np.array(df['income']) #income\n",
        "X2 = np.array(df['education']) #education"
      ]
    },
    {
      "cell_type": "markdown",
      "source": [
        "- X1 (income) as explaining variable:"
      ],
      "metadata": {
        "id": "BvoaG_T26ekq"
      }
    },
    {
      "cell_type": "code",
      "source": [
        "regression_line(X1,Y)"
      ],
      "metadata": {
        "colab": {
          "base_uri": "https://localhost:8080/",
          "height": 313
        },
        "id": "LDb3bVWj6prN",
        "outputId": "7478aa25-0188-4917-d879-1297ff864deb"
      },
      "execution_count": null,
      "outputs": [
        {
          "output_type": "display_data",
          "data": {
            "text/plain": [
              "<Figure size 432x288 with 1 Axes>"
            ],
            "image/png": "[encoded data removed]"
          },
          "metadata": {
            "needs_background": "light"
          }
        },
        {
          "output_type": "stream",
          "name": "stdout",
          "text": [
            "least square line: y = 2.4927381174158108e-05x + 67.87686686676565\n",
            "r^2 = 0.39282245081099254\n"
          ]
        }
      ]
    },
    {
      "cell_type": "markdown",
      "source": [
        "- X2 (education) as explaining variable:"
      ],
      "metadata": {
        "id": "5WehUh7X6wIB"
      }
    },
    {
      "cell_type": "code",
      "source": [
        "regression_line(X2, Y)"
      ],
      "metadata": {
        "colab": {
          "base_uri": "https://localhost:8080/",
          "height": 300
        },
        "id": "h44zD31C60ZP",
        "outputId": "3a4bd317-2e7e-4b10-e81a-78c5bb7bcf3e"
      },
      "execution_count": null,
      "outputs": [
        {
          "output_type": "display_data",
          "data": {
            "text/plain": [
              "<Figure size 432x288 with 1 Axes>"
            ],
            "image/png": "[encoded data removed]"
          },
          "metadata": {
            "needs_background": "light"
          }
        },
        {
          "output_type": "stream",
          "name": "stdout",
          "text": [
            "least square line: y = 0.8469025503026251x + 63.14629353728104\n",
            "r^2 = 0.10342346791747592\n"
          ]
        }
      ]
    },
    {
      "cell_type": "markdown",
      "source": [
        "* According this data,  apparently the income variable can explain the life expectancy variable more than education if we consider the r^2 term as our measurement tool to the ability to correlate between a variable and its explained variable, as the result of r^2 calculated using income data is bigger than the r^2 calculated using the education data. In other words, if we agree to take the notion of coefficient of determination as something that can point on the correlation between 2 variables and even categorize them as one explaining the other in our model, then we can conclude income is more related to life expectancy.\n",
        "\n",
        "* Our measure of surprisingness depends on our pre assumptions on what effects (and to what extent) the life expectancy."
      ],
      "metadata": {
        "id": "Ys7mt7rBCLSD"
      }
    },
    {
      "cell_type": "markdown",
      "source": [
        "### e.\n"
      ],
      "metadata": {
        "id": "h2VdsFkJH3Ry"
      }
    },
    {
      "cell_type": "markdown",
      "source": [
        "### Transforming the income variable with log of base 10:"
      ],
      "metadata": {
        "id": "oE5TzLMOMGzZ"
      }
    },
    {
      "cell_type": "code",
      "source": [
        "X1_log = np.log10(df['income']) #log(income)\n",
        "regression_line(X1_log, Y)"
      ],
      "metadata": {
        "colab": {
          "base_uri": "https://localhost:8080/",
          "height": 300
        },
        "id": "YFJyOD4oHLPd",
        "outputId": "ebc702b8-f8c9-4381-cf0c-680088116598"
      },
      "execution_count": null,
      "outputs": [
        {
          "output_type": "display_data",
          "data": {
            "text/plain": [
              "<Figure size 432x288 with 1 Axes>"
            ],
            "image/png": "[encoded data removed]"
          },
          "metadata": {
            "needs_background": "light"
          }
        },
        {
          "output_type": "stream",
          "name": "stdout",
          "text": [
            "least square line: y = 6.377709193509563x + 42.71082086232181\n",
            "r^2 = 0.588397471066624\n"
          ]
        }
      ]
    },
    {
      "cell_type": "markdown",
      "source": [
        "* We can see from the above that coefficient of determination has been improved."
      ],
      "metadata": {
        "id": "Nc8WTCstIIoX"
      }
    },
    {
      "cell_type": "markdown",
      "source": [
        "### No transformation is seem to be effective or avail for education variable."
      ],
      "metadata": {
        "id": "qLZiFzQAIdgI"
      }
    }
  ]
}