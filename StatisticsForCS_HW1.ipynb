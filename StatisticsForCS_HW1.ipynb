{
  "nbformat": 4,
  "nbformat_minor": 0,
  "metadata": {
    "colab": {
      "provenance": [],
      "collapsed_sections": [
        "Kwrfmc8cyF28",
        "ReWeR_2-PX5Z"
      ],
      "authorship_tag": "ABX9TyNqheF5dMeuV6hVwHm4SrbX"
    },
    "kernelspec": {
      "name": "python3",
      "display_name": "Python 3"
    },
    "language_info": {
      "name": "python"
    }
  },
  "cells": [
    {
      "cell_type": "markdown",
      "source": [
        "# Question 1\n",
        "\n",
        "\n"
      ],
      "metadata": {
        "id": "TpQG99FPOr4q"
      }
    },
    {
      "cell_type": "markdown",
      "source": [
        "# Question 2"
      ],
      "metadata": {
        "id": "EAmjBBadbjdN"
      }
    },
    {
      "cell_type": "code",
      "source": [
        "import matplotlib.pyplot as plt\n",
        "import numpy as np\n",
        "from scipy.stats import binom\n"
      ],
      "metadata": {
        "id": "foPJ5S3McLA_"
      },
      "execution_count": null,
      "outputs": []
    },
    {
      "cell_type": "markdown",
      "source": [
        "### a."
      ],
      "metadata": {
        "id": "0mAY-6tuD9Ob"
      }
    },
    {
      "cell_type": "code",
      "source": [
        "def Empirical_F(vector):\n",
        "  vector.sort()\n",
        "\n",
        "  curr_num = vector[0]\n",
        "  num_of_entries = len(vector)\n",
        "  cnt=0\n",
        "  cum_sum = 0\n",
        "  empirical_tuple_list = []\n",
        "\n",
        "  for entry in vector:\n",
        "    if entry == curr_num:\n",
        "      cnt+=1\n",
        "    else:\n",
        "      cum_sum = cnt/num_of_entries + cum_sum\n",
        "      empirical_tuple_list.append((curr_num, cum_sum, cnt))\n",
        "      cnt=1\n",
        "      curr_num = entry\n",
        "\n",
        "  #for last occurrence\n",
        "  cum_sum = cnt/num_of_entries + cum_sum\n",
        "  empirical_tuple_list.append((curr_num, cum_sum, cnt))\n",
        "  #\n",
        "\n",
        "  num_col_list = []\n",
        "  prob_col_list = []\n",
        "  for tuple in empirical_tuple_list:\n",
        "    for i in range(tuple[2]):\n",
        "      num_col_list.append(tuple[0])\n",
        "      prob_col_list.append(tuple[1])\n",
        "\n",
        "  return np.column_stack((np.array(num_col_list), np.array(prob_col_list)))"
      ],
      "metadata": {
        "id": "MaQSqjVMD_bg"
      },
      "execution_count": null,
      "outputs": []
    },
    {
      "cell_type": "markdown",
      "source": [
        "### b."
      ],
      "metadata": {
        "id": "TVS1h_TlUmj9"
      }
    },
    {
      "cell_type": "code",
      "source": [
        "vector_x = binom.rvs(n=5, p=1/6, size=20)"
      ],
      "metadata": {
        "id": "VC58csViUoXx"
      },
      "execution_count": null,
      "outputs": []
    },
    {
      "cell_type": "markdown",
      "source": [
        "### c."
      ],
      "metadata": {
        "id": "kaXGQnsRVvVl"
      }
    },
    {
      "cell_type": "code",
      "source": [
        "print(Empirical_F(vector_x))"
      ],
      "metadata": {
        "colab": {
          "base_uri": "https://localhost:8080/"
        },
        "id": "FuSzzkNwVww6",
        "outputId": "0db3e122-33ab-4da5-90fc-cdcd0796eca6"
      },
      "execution_count": null,
      "outputs": [
        {
          "output_type": "stream",
          "name": "stdout",
          "text": [
            "[[0.   0.4 ]\n",
            " [0.   0.4 ]\n",
            " [0.   0.4 ]\n",
            " [0.   0.4 ]\n",
            " [0.   0.4 ]\n",
            " [0.   0.4 ]\n",
            " [0.   0.4 ]\n",
            " [0.   0.4 ]\n",
            " [1.   0.7 ]\n",
            " [1.   0.7 ]\n",
            " [1.   0.7 ]\n",
            " [1.   0.7 ]\n",
            " [1.   0.7 ]\n",
            " [1.   0.7 ]\n",
            " [2.   0.95]\n",
            " [2.   0.95]\n",
            " [2.   0.95]\n",
            " [2.   0.95]\n",
            " [2.   0.95]\n",
            " [3.   1.  ]]\n"
          ]
        }
      ]
    },
    {
      "cell_type": "markdown",
      "source": [
        "###d."
      ],
      "metadata": {
        "id": "okw5M7y0a4di"
      }
    },
    {
      "cell_type": "code",
      "source": [
        "x = Empirical_F(vector_x)[: , 0]\n",
        "y = Empirical_F(vector_x)[: , 1]\n",
        "plt.step(x,y, where=\"post\")\n",
        "plt.show()"
      ],
      "metadata": {
        "colab": {
          "base_uri": "https://localhost:8080/",
          "height": 265
        },
        "id": "3IQFPK6Na6Xx",
        "outputId": "8b846c49-143a-4cfc-cb15-b8adfe31fcb2"
      },
      "execution_count": null,
      "outputs": [
        {
          "output_type": "display_data",
          "data": {
            "text/plain": [
              "<Figure size 432x288 with 1 Axes>"
            ],
            "image/png": "[encoded data removed]"
          },
          "metadata": {
            "needs_background": "light"
          }
        }
      ]
    },
    {
      "cell_type": "markdown",
      "source": [
        "###e."
      ],
      "metadata": {
        "id": "xPCUahDMj8ot"
      }
    },
    {
      "cell_type": "code",
      "source": [
        "vector_y = np.array((0,1,2,3,4,5))\n",
        "print(binom.cdf(vector_y, 5, 1/6))"
      ],
      "metadata": {
        "colab": {
          "base_uri": "https://localhost:8080/"
        },
        "id": "tM_CQW-Vj_WT",
        "outputId": "100cd58c-29e7-4d7e-a7d4-c072707fdad9"
      },
      "execution_count": null,
      "outputs": [
        {
          "output_type": "stream",
          "name": "stdout",
          "text": [
            "[0.40187757 0.80375514 0.96450617 0.99665638 0.9998714  1.        ]\n"
          ]
        }
      ]
    },
    {
      "cell_type": "markdown",
      "source": [
        "###f."
      ],
      "metadata": {
        "id": "PPc-GVLak2Yb"
      }
    },
    {
      "cell_type": "code",
      "source": [
        "#d\n",
        "x = Empirical_F(vector_x)[: , 0]\n",
        "y = Empirical_F(vector_x)[: , 1]\n",
        "plt.step(x,y, where=\"post\")\n",
        "\n",
        "#f\n",
        "plt.step(vector_y, binom.cdf(vector_y, 5, 1/6), where=\"post\")\n",
        "\n",
        "plt.show()"
      ],
      "metadata": {
        "colab": {
          "base_uri": "https://localhost:8080/",
          "height": 265
        },
        "id": "B3RG9_lWk5e8",
        "outputId": "8f38ad5f-ba01-4a92-8327-8935fc834cf1"
      },
      "execution_count": null,
      "outputs": [
        {
          "output_type": "display_data",
          "data": {
            "text/plain": [
              "<Figure size 432x288 with 1 Axes>"
            ],
            "image/png": "[encoded data removed]"
          },
          "metadata": {
            "needs_background": "light"
          }
        }
      ]
    },
    {
      "cell_type": "markdown",
      "source": [
        "- orange graph represent theoretical distribution\n",
        "- blue graph represent empirical distribution with 20 observations"
      ],
      "metadata": {
        "id": "9oD6gWpzp9T8"
      }
    },
    {
      "cell_type": "markdown",
      "source": [
        "### g."
      ],
      "metadata": {
        "id": "AdjH7eOLqjgw"
      }
    },
    {
      "cell_type": "code",
      "source": [
        "vector_x_20 = binom.rvs(n=5, p=1/6, size=20)\n",
        "vector_x_100 = binom.rvs(n=5, p=1/6, size=100)\n",
        "vector_x_200 = binom.rvs(n=5, p=1/6, size=200)\n",
        "vector_x_1000 = binom.rvs(n=5, p=1/6, size=1000)\n",
        "\n",
        "#theoretical\n",
        "plt.step(vector_y, binom.cdf(vector_y, 5, 1/6), where=\"post\")\n",
        "\n",
        "#vector_x_20\n",
        "x_20 = Empirical_F(vector_x_20)[: , 0]\n",
        "y_20 = Empirical_F(vector_x_20)[: , 1]\n",
        "plt.step(x_20,y_20, where=\"post\")\n",
        "\n",
        "#vector_x_100\n",
        "x_100 = Empirical_F(vector_x_100)[: , 0]\n",
        "y_100 = Empirical_F(vector_x_100)[: , 1]\n",
        "plt.step(x_100,y_100, where=\"post\")\n",
        "\n",
        "#vector_x_200\n",
        "x_200 = Empirical_F(vector_x_200)[: , 0]\n",
        "y_200 = Empirical_F(vector_x_200)[: , 1]\n",
        "plt.step(x_200,y_200, where=\"post\")\n",
        "\n",
        "#vector_x_1000\n",
        "x_1000 = Empirical_F(vector_x_1000)[: , 0]\n",
        "y_1000 = Empirical_F(vector_x_1000)[: , 1]\n",
        "plt.step(x_1000,y_1000, where=\"post\")\n",
        "\n",
        "plt.title(\"comparing theoretical and empirical distribution of binomial variable as a function of the observations\")\n",
        "plt.show()\n",
        "\n",
        "\n",
        "\n",
        "\n",
        "\n"
      ],
      "metadata": {
        "colab": {
          "base_uri": "https://localhost:8080/",
          "height": 281
        },
        "id": "ISYxwfRjqoPb",
        "outputId": "cb35ffa9-9866-460c-85d8-25de3588b997"
      },
      "execution_count": null,
      "outputs": [
        {
          "output_type": "display_data",
          "data": {
            "text/plain": [
              "<Figure size 432x288 with 1 Axes>"
            ],
            "image/png": "[encoded data removed]"
          },
          "metadata": {
            "needs_background": "light"
          }
        }
      ]
    },
    {
      "cell_type": "markdown",
      "source": [
        "- blue = theoretical\n",
        "- orange = 20 observations\n",
        "- green = 100 observations\n",
        "- red = 200 observations\n",
        "- purple = 1000 observations\n",
        "\n",
        "As one could guess from the begginning, as we add more observations we get a closer results to the theoretical distribution (and therfore the graph will be more close in shape to the thoretical one)."
      ],
      "metadata": {
        "id": "4IIvp2aSui_k"
      }
    },
    {
      "cell_type": "markdown",
      "source": [
        "# Question 3\n"
      ],
      "metadata": {
        "id": "Kwrfmc8cyF28"
      }
    },
    {
      "cell_type": "code",
      "source": [
        "import pandas as pd\n",
        "path = \"/content/appendicitis.csv\"\n",
        "df = pd.read_csv(path)"
      ],
      "metadata": {
        "id": "geqZH-DEyN3E"
      },
      "execution_count": null,
      "outputs": []
    },
    {
      "cell_type": "markdown",
      "source": [
        "### a.\n"
      ],
      "metadata": {
        "id": "Z6ka9-Ia5Htm"
      }
    },
    {
      "cell_type": "code",
      "source": [
        "pathology_col = df.loc[0:len(df), 'Pathology']\n",
        "\n",
        "cnt = 0\n",
        "for num in pathology_col:\n",
        "  if num == 2:\n",
        "    cnt+=1\n",
        "print(cnt/len(df))"
      ],
      "metadata": {
        "colab": {
          "base_uri": "https://localhost:8080/"
        },
        "id": "FqPG-BZ85BVI",
        "outputId": "c1c03c78-8446-405f-c3c2-36aa93351e99"
      },
      "execution_count": null,
      "outputs": [
        {
          "output_type": "stream",
          "name": "stdout",
          "text": [
            "0.24344569288389514\n"
          ]
        }
      ]
    },
    {
      "cell_type": "markdown",
      "source": [
        "###b."
      ],
      "metadata": {
        "id": "cNAQZtO-BKRj"
      }
    },
    {
      "cell_type": "code",
      "source": [
        "sex_col = df.loc[: , 'Sex']\n",
        "M1 = 0\n",
        "M2 = 0\n",
        "F1 = 0\n",
        "F2 = 0\n",
        "\n",
        "for i in range(len(df)):\n",
        "  if sex_col[i] == 'Male':\n",
        "    if pathology_col[i] == 1:\n",
        "      M1+=1\n",
        "    else:\n",
        "      M2+=1\n",
        "\n",
        "  else:\n",
        "    if pathology_col[i] == 1:\n",
        "      F1+=1\n",
        "    else:\n",
        "      F2+=1\n",
        "\n",
        "\n",
        "freq_table = pd.DataFrame([['Male', M1,M2], ['Famale', F1, F2]] , index = ['']*2 , columns = ['','1','2'])\n",
        "print(freq_table)\n",
        "\n",
        "\n"
      ],
      "metadata": {
        "colab": {
          "base_uri": "https://localhost:8080/"
        },
        "id": "qmJ7Lt36BSCf",
        "outputId": "ce6f84ad-8250-4bc0-97f0-f773423ef411"
      },
      "execution_count": null,
      "outputs": [
        {
          "output_type": "stream",
          "name": "stdout",
          "text": [
            "            1   2\n",
            "    Male  101  18\n",
            "  Famale  101  47\n"
          ]
        }
      ]
    },
    {
      "cell_type": "markdown",
      "source": [
        "### c.\n",
        "- The empirical probability for a men to be sent to a surgery with no need is $18/129$\n",
        "- For a women it sits on $47/148$\n",
        "- In order to answer the last question we first need to compare between 2 equall number of population of the genders, which isn't the case here."
      ],
      "metadata": {
        "id": "A22DWn8yYgJQ"
      }
    },
    {
      "cell_type": "markdown",
      "source": [
        "from google.colab import drive\n",
        "drive.mount('/content/drive')"
      ],
      "metadata": {
        "id": "A7yaD_NJk2Zb"
      }
    },
    {
      "cell_type": "markdown",
      "source": [
        "#Question 4\n"
      ],
      "metadata": {
        "id": "ReWeR_2-PX5Z"
      }
    },
    {
      "cell_type": "markdown",
      "source": [
        "On one hand, we can notice that the table satisfies P(Alive|Y) < P(Alive|O). On the other hand, for all i∈{1,2,3,crew} we can use simple calculations and derive P(Alive|Y,X=i) < P(Alive|O,X=i). This emphesizes the Simpson paradox: when we take a look on the chances to survive given the age, it appears that apparently old man are more likely to stay alive. However when we look upon each class we get the idea that the opposite occurs- young man are more likely to survive than old one at each of the 4 classes. We get a different conclusion when we add conditioning and that's what the paradox covers.   "
      ],
      "metadata": {
        "id": "UK5oXUbUZUbv"
      }
    }
  ]
}